{
 "cells": [
  {
   "cell_type": "markdown",
   "metadata": {},
   "source": [
    "### Note\n",
    "* Instructions have been included for each segment. You do not have to follow them exactly, but they are included to help you think through the steps."
   ]
  },
  {
   "cell_type": "code",
   "execution_count": 16,
   "metadata": {},
   "outputs": [
    {
     "data": {
      "text/html": [
       "<div>\n",
       "<style scoped>\n",
       "    .dataframe tbody tr th:only-of-type {\n",
       "        vertical-align: middle;\n",
       "    }\n",
       "\n",
       "    .dataframe tbody tr th {\n",
       "        vertical-align: top;\n",
       "    }\n",
       "\n",
       "    .dataframe thead th {\n",
       "        text-align: right;\n",
       "    }\n",
       "</style>\n",
       "<table border=\"1\" class=\"dataframe\">\n",
       "  <thead>\n",
       "    <tr style=\"text-align: right;\">\n",
       "      <th></th>\n",
       "      <th>Purchase ID</th>\n",
       "      <th>SN</th>\n",
       "      <th>Age</th>\n",
       "      <th>Gender</th>\n",
       "      <th>Item ID</th>\n",
       "      <th>Item Name</th>\n",
       "      <th>Price</th>\n",
       "    </tr>\n",
       "  </thead>\n",
       "  <tbody>\n",
       "    <tr>\n",
       "      <th>0</th>\n",
       "      <td>0</td>\n",
       "      <td>Lisim78</td>\n",
       "      <td>20</td>\n",
       "      <td>Male</td>\n",
       "      <td>108</td>\n",
       "      <td>Extraction, Quickblade Of Trembling Hands</td>\n",
       "      <td>3.53</td>\n",
       "    </tr>\n",
       "    <tr>\n",
       "      <th>1</th>\n",
       "      <td>1</td>\n",
       "      <td>Lisovynya38</td>\n",
       "      <td>40</td>\n",
       "      <td>Male</td>\n",
       "      <td>143</td>\n",
       "      <td>Frenzied Scimitar</td>\n",
       "      <td>1.56</td>\n",
       "    </tr>\n",
       "    <tr>\n",
       "      <th>2</th>\n",
       "      <td>2</td>\n",
       "      <td>Ithergue48</td>\n",
       "      <td>24</td>\n",
       "      <td>Male</td>\n",
       "      <td>92</td>\n",
       "      <td>Final Critic</td>\n",
       "      <td>4.88</td>\n",
       "    </tr>\n",
       "    <tr>\n",
       "      <th>3</th>\n",
       "      <td>3</td>\n",
       "      <td>Chamassasya86</td>\n",
       "      <td>24</td>\n",
       "      <td>Male</td>\n",
       "      <td>100</td>\n",
       "      <td>Blindscythe</td>\n",
       "      <td>3.27</td>\n",
       "    </tr>\n",
       "    <tr>\n",
       "      <th>4</th>\n",
       "      <td>4</td>\n",
       "      <td>Iskosia90</td>\n",
       "      <td>23</td>\n",
       "      <td>Male</td>\n",
       "      <td>131</td>\n",
       "      <td>Fury</td>\n",
       "      <td>1.44</td>\n",
       "    </tr>\n",
       "  </tbody>\n",
       "</table>\n",
       "</div>"
      ],
      "text/plain": [
       "   Purchase ID             SN  Age Gender  Item ID  \\\n",
       "0            0        Lisim78   20   Male      108   \n",
       "1            1    Lisovynya38   40   Male      143   \n",
       "2            2     Ithergue48   24   Male       92   \n",
       "3            3  Chamassasya86   24   Male      100   \n",
       "4            4      Iskosia90   23   Male      131   \n",
       "\n",
       "                                   Item Name  Price  \n",
       "0  Extraction, Quickblade Of Trembling Hands   3.53  \n",
       "1                          Frenzied Scimitar   1.56  \n",
       "2                               Final Critic   4.88  \n",
       "3                                Blindscythe   3.27  \n",
       "4                                       Fury   1.44  "
      ]
     },
     "execution_count": 16,
     "metadata": {},
     "output_type": "execute_result"
    }
   ],
   "source": [
    "# Dependencies and Setup\n",
    "import pandas as pd\n",
    "\n",
    "# File to Load (Remember to Change These)\n",
    "file_to_load = \"Resources/purchase_data.csv\"\n",
    "\n",
    "# Read Purchasing File and store into Pandas data frame\n",
    "purchase_data = pd.read_csv(file_to_load)\n",
    "\n",
    "purchase_data.head()"
   ]
  },
  {
   "cell_type": "markdown",
   "metadata": {},
   "source": [
    "## Player Count"
   ]
  },
  {
   "cell_type": "markdown",
   "metadata": {},
   "source": [
    "* Display the total number of players\n"
   ]
  },
  {
   "cell_type": "code",
   "execution_count": 17,
   "metadata": {},
   "outputs": [
    {
     "data": {
      "text/html": [
       "<div>\n",
       "<style scoped>\n",
       "    .dataframe tbody tr th:only-of-type {\n",
       "        vertical-align: middle;\n",
       "    }\n",
       "\n",
       "    .dataframe tbody tr th {\n",
       "        vertical-align: top;\n",
       "    }\n",
       "\n",
       "    .dataframe thead th {\n",
       "        text-align: right;\n",
       "    }\n",
       "</style>\n",
       "<table border=\"1\" class=\"dataframe\">\n",
       "  <thead>\n",
       "    <tr style=\"text-align: right;\">\n",
       "      <th></th>\n",
       "      <th>Total Players</th>\n",
       "    </tr>\n",
       "  </thead>\n",
       "  <tbody>\n",
       "    <tr>\n",
       "      <th>0</th>\n",
       "      <td>576</td>\n",
       "    </tr>\n",
       "  </tbody>\n",
       "</table>\n",
       "</div>"
      ],
      "text/plain": [
       "   Total Players\n",
       "0            576"
      ]
     },
     "execution_count": 17,
     "metadata": {},
     "output_type": "execute_result"
    }
   ],
   "source": [
    "# Create total players variable using the length of the list \n",
    "totalPlayers = len(purchase_data[\"SN\"].value_counts())\n",
    "\n",
    "# Create Panda Data Frame \n",
    "players = pd.DataFrame({\"Total Players\": [totalPlayers]})\n",
    "players"
   ]
  },
  {
   "cell_type": "markdown",
   "metadata": {},
   "source": [
    "## Purchasing Analysis (Total)"
   ]
  },
  {
   "cell_type": "markdown",
   "metadata": {},
   "source": [
    "* Run basic calculations to obtain number of unique items, average price, etc.\n",
    "\n",
    "\n",
    "* Create a summary data frame to hold the results\n",
    "\n",
    "\n",
    "* Optional: give the displayed data cleaner formatting\n",
    "\n",
    "\n",
    "* Display the summary data frame\n"
   ]
  },
  {
   "cell_type": "code",
   "execution_count": 18,
   "metadata": {
    "scrolled": true
   },
   "outputs": [
    {
     "data": {
      "text/html": [
       "<style  type=\"text/css\" >\n",
       "</style><table id=\"T_312ca_\" ><thead>    <tr>        <th class=\"blank level0\" ></th>        <th class=\"col_heading level0 col0\" >Number of unique items</th>        <th class=\"col_heading level0 col1\" >Average Price</th>        <th class=\"col_heading level0 col2\" >Number of Purchases</th>        <th class=\"col_heading level0 col3\" >Total Revenue</th>    </tr></thead><tbody>\n",
       "                <tr>\n",
       "                        <th id=\"T_312ca_level0_row0\" class=\"row_heading level0 row0\" >0</th>\n",
       "                        <td id=\"T_312ca_row0_col0\" class=\"data row0 col0\" >179</td>\n",
       "                        <td id=\"T_312ca_row0_col1\" class=\"data row0 col1\" >$3.05</td>\n",
       "                        <td id=\"T_312ca_row0_col2\" class=\"data row0 col2\" >780</td>\n",
       "                        <td id=\"T_312ca_row0_col3\" class=\"data row0 col3\" >$2,379.77</td>\n",
       "            </tr>\n",
       "    </tbody></table>"
      ],
      "text/plain": [
       "<pandas.io.formats.style.Styler at 0x2247cd57640>"
      ]
     },
     "execution_count": 18,
     "metadata": {},
     "output_type": "execute_result"
    }
   ],
   "source": [
    "# Run basic calculations for each item \n",
    "numberUniqueItems = len((purchase_data[\"Item ID\"]).unique())\n",
    "averagePrice = (purchase_data[\"Price\"]).mean()\n",
    "numberPurchases = (purchase_data[\"Purchase ID\"]).count()\n",
    "totalRev = (purchase_data[\"Price\"]).sum()\n",
    "\n",
    "# Create Panda Data Frame with the above data and its respective variables \n",
    "purchasing_df = pd.DataFrame({\"Number of unique items\":[numberUniqueItems],\n",
    "                              \"Average Price\": [averagePrice],\n",
    "                              \"Number of Purchases\": [numberPurchases],\n",
    "                              \"Total Revenue\": [totalRev]\n",
    "                             })\n",
    "\n",
    "# Create a cleaner format by styling 'Average Price' and 'Total Revenue'\n",
    "purchasing_df.style.format({\"Average Price\": \"${:,.2f}\",\n",
    "                           \"Total Revenue\": \"${:,.2f}\"})"
   ]
  },
  {
   "cell_type": "markdown",
   "metadata": {},
   "source": [
    "## Gender Demographics"
   ]
  },
  {
   "cell_type": "markdown",
   "metadata": {},
   "source": [
    "* Percentage and Count of Male Players\n",
    "\n",
    "\n",
    "* Percentage and Count of Female Players\n",
    "\n",
    "\n",
    "* Percentage and Count of Other / Non-Disclosed\n",
    "\n",
    "\n"
   ]
  },
  {
   "cell_type": "code",
   "execution_count": 35,
   "metadata": {},
   "outputs": [
    {
     "data": {
      "text/html": [
       "<style  type=\"text/css\" >\n",
       "</style><table id=\"T_13738_\" ><thead>    <tr>        <th class=\"blank level0\" ></th>        <th class=\"col_heading level0 col0\" >Total Count</th>        <th class=\"col_heading level0 col1\" >Percentage of Players</th>    </tr></thead><tbody>\n",
       "                <tr>\n",
       "                        <th id=\"T_13738_level0_row0\" class=\"row_heading level0 row0\" >Male</th>\n",
       "                        <td id=\"T_13738_row0_col0\" class=\"data row0 col0\" >484</td>\n",
       "                        <td id=\"T_13738_row0_col1\" class=\"data row0 col1\" >84.03%</td>\n",
       "            </tr>\n",
       "            <tr>\n",
       "                        <th id=\"T_13738_level0_row1\" class=\"row_heading level0 row1\" >Female</th>\n",
       "                        <td id=\"T_13738_row1_col0\" class=\"data row1 col0\" >81</td>\n",
       "                        <td id=\"T_13738_row1_col1\" class=\"data row1 col1\" >14.06%</td>\n",
       "            </tr>\n",
       "            <tr>\n",
       "                        <th id=\"T_13738_level0_row2\" class=\"row_heading level0 row2\" >Other / Non-Disclosed</th>\n",
       "                        <td id=\"T_13738_row2_col0\" class=\"data row2 col0\" >11</td>\n",
       "                        <td id=\"T_13738_row2_col1\" class=\"data row2 col1\" >1.91%</td>\n",
       "            </tr>\n",
       "    </tbody></table>"
      ],
      "text/plain": [
       "<pandas.io.formats.style.Styler at 0x2247baec550>"
      ]
     },
     "execution_count": 35,
     "metadata": {},
     "output_type": "execute_result"
    }
   ],
   "source": [
    "# Group purchase_data by Gender\n",
    "genderData = purchase_data.groupby(\"Gender\")\n",
    "\n",
    "# Count the total of screen names \"SN\" by gender\n",
    "totalGender = genderData.nunique()[\"SN\"]\n",
    "\n",
    "# Total count by gender and divivde by total players \n",
    "percentPlayers = totalGender / totalPlayers * 100\n",
    "\n",
    "# Create data frame with obtained values\n",
    "genderDemographics_df = pd.DataFrame({\"Total Count\": totalGender, \n",
    "                                   \"Percentage of Players\": percentPlayers})\n",
    "\n",
    "# Format the data frame with no index name in the corner\n",
    "genderDemographics_df.index.name = None\n",
    "genderDemographics_df.sort_values([\"Percentage of Players\"], ascending = False).style.format({\"Percentage of Players\":\"{:.2f}%\"})\n"
   ]
  },
  {
   "cell_type": "markdown",
   "metadata": {},
   "source": [
    "\n",
    "## Purchasing Analysis (Gender)"
   ]
  },
  {
   "cell_type": "markdown",
   "metadata": {},
   "source": [
    "* Run basic calculations to obtain purchase count, avg. purchase price, avg. purchase total per person etc. by gender\n",
    "\n",
    "\n",
    "\n",
    "\n",
    "* Create a summary data frame to hold the results\n",
    "\n",
    "\n",
    "* Optional: give the displayed data cleaner formatting\n",
    "\n",
    "\n",
    "* Display the summary data frame"
   ]
  },
  {
   "cell_type": "code",
   "execution_count": 39,
   "metadata": {},
   "outputs": [
    {
     "data": {
      "text/html": [
       "<style  type=\"text/css\" >\n",
       "</style><table id=\"T_5bd3e_\" ><thead>    <tr>        <th class=\"blank level0\" ></th>        <th class=\"col_heading level0 col0\" >Purchase Count</th>        <th class=\"col_heading level0 col1\" >Average Purchase Price</th>        <th class=\"col_heading level0 col2\" >Total Purchase Value</th>        <th class=\"col_heading level0 col3\" >Avg Total Purchase per Person</th>    </tr></thead><tbody>\n",
       "                <tr>\n",
       "                        <th id=\"T_5bd3e_level0_row0\" class=\"row_heading level0 row0\" >Female</th>\n",
       "                        <td id=\"T_5bd3e_row0_col0\" class=\"data row0 col0\" >113</td>\n",
       "                        <td id=\"T_5bd3e_row0_col1\" class=\"data row0 col1\" >$3.20</td>\n",
       "                        <td id=\"T_5bd3e_row0_col2\" class=\"data row0 col2\" >$361.94</td>\n",
       "                        <td id=\"T_5bd3e_row0_col3\" class=\"data row0 col3\" >$4.47</td>\n",
       "            </tr>\n",
       "            <tr>\n",
       "                        <th id=\"T_5bd3e_level0_row1\" class=\"row_heading level0 row1\" >Male</th>\n",
       "                        <td id=\"T_5bd3e_row1_col0\" class=\"data row1 col0\" >652</td>\n",
       "                        <td id=\"T_5bd3e_row1_col1\" class=\"data row1 col1\" >$3.02</td>\n",
       "                        <td id=\"T_5bd3e_row1_col2\" class=\"data row1 col2\" >$1,967.64</td>\n",
       "                        <td id=\"T_5bd3e_row1_col3\" class=\"data row1 col3\" >$4.07</td>\n",
       "            </tr>\n",
       "            <tr>\n",
       "                        <th id=\"T_5bd3e_level0_row2\" class=\"row_heading level0 row2\" >Other / Non-Disclosed</th>\n",
       "                        <td id=\"T_5bd3e_row2_col0\" class=\"data row2 col0\" >15</td>\n",
       "                        <td id=\"T_5bd3e_row2_col1\" class=\"data row2 col1\" >$3.35</td>\n",
       "                        <td id=\"T_5bd3e_row2_col2\" class=\"data row2 col2\" >$50.19</td>\n",
       "                        <td id=\"T_5bd3e_row2_col3\" class=\"data row2 col3\" >$4.56</td>\n",
       "            </tr>\n",
       "    </tbody></table>"
      ],
      "text/plain": [
       "<pandas.io.formats.style.Styler at 0x224798e5220>"
      ]
     },
     "execution_count": 39,
     "metadata": {},
     "output_type": "execute_result"
    }
   ],
   "source": [
    "# Count total purchases by gender \n",
    "purchaseCount = genderData[\"Purchase ID\"].count()\n",
    "\n",
    "# Average purchase price by gender\n",
    "avgPurchasePrice = genderData[\"Price\"].mean()\n",
    "\n",
    "# Average purchase total by gender \n",
    "avgPurchaseTotal = genderData[\"Price\"].sum()\n",
    "\n",
    "# Average purchase per person by gender \n",
    "avgPurchasePerson = avgPurchaseTotal / totalGender\n",
    "\n",
    "# Create data frame with the above values \n",
    "genderDemographics_df = pd.DataFrame ({\"Purchase Count\": purchaseCount,\n",
    "                                     \"Average Purchase Price\": avgPurchasePrice,\n",
    "                                     \"Total Purchase Value\": avgPurchaseTotal,\n",
    "                                     \"Avg Total Purchase per Person\": avgPurchasePerson\n",
    "                                    })\n",
    "# Remove Gender header\n",
    "genderDemographics_df.index.name = None\n",
    "\n",
    "#Format currency and decimals \n",
    "genderDemographics_df.style.format({\"Average Purchase Price\": \"${:,.2f}\",\n",
    "                                   \"Total Purchase Value\": \"${:,.2f}\",\n",
    "                                    \"Avg Total Purchase per Person\": \"${:,.2f}\",\n",
    "                                   })\n"
   ]
  },
  {
   "cell_type": "markdown",
   "metadata": {},
   "source": [
    "## Age Demographics"
   ]
  },
  {
   "cell_type": "markdown",
   "metadata": {},
   "source": [
    "* Establish bins for ages\n",
    "\n",
    "\n",
    "* Categorize the existing players using the age bins. Hint: use pd.cut()\n",
    "\n",
    "\n",
    "* Calculate the numbers and percentages by age group\n",
    "\n",
    "\n",
    "* Create a summary data frame to hold the results\n",
    "\n",
    "\n",
    "* Optional: round the percentage column to two decimal points\n",
    "\n",
    "\n",
    "* Display Age Demographics Table\n"
   ]
  },
  {
   "cell_type": "code",
   "execution_count": 40,
   "metadata": {},
   "outputs": [
    {
     "data": {
      "text/html": [
       "<style  type=\"text/css\" >\n",
       "</style><table id=\"T_684c4_\" ><thead>    <tr>        <th class=\"blank level0\" ></th>        <th class=\"col_heading level0 col0\" >Total Count</th>        <th class=\"col_heading level0 col1\" >Percentage of Players</th>    </tr></thead><tbody>\n",
       "                <tr>\n",
       "                        <th id=\"T_684c4_level0_row0\" class=\"row_heading level0 row0\" ><10</th>\n",
       "                        <td id=\"T_684c4_row0_col0\" class=\"data row0 col0\" >17</td>\n",
       "                        <td id=\"T_684c4_row0_col1\" class=\"data row0 col1\" >2.95%</td>\n",
       "            </tr>\n",
       "            <tr>\n",
       "                        <th id=\"T_684c4_level0_row1\" class=\"row_heading level0 row1\" >10-14</th>\n",
       "                        <td id=\"T_684c4_row1_col0\" class=\"data row1 col0\" >22</td>\n",
       "                        <td id=\"T_684c4_row1_col1\" class=\"data row1 col1\" >3.82%</td>\n",
       "            </tr>\n",
       "            <tr>\n",
       "                        <th id=\"T_684c4_level0_row2\" class=\"row_heading level0 row2\" >15-19</th>\n",
       "                        <td id=\"T_684c4_row2_col0\" class=\"data row2 col0\" >107</td>\n",
       "                        <td id=\"T_684c4_row2_col1\" class=\"data row2 col1\" >18.58%</td>\n",
       "            </tr>\n",
       "            <tr>\n",
       "                        <th id=\"T_684c4_level0_row3\" class=\"row_heading level0 row3\" >20-24</th>\n",
       "                        <td id=\"T_684c4_row3_col0\" class=\"data row3 col0\" >258</td>\n",
       "                        <td id=\"T_684c4_row3_col1\" class=\"data row3 col1\" >44.79%</td>\n",
       "            </tr>\n",
       "            <tr>\n",
       "                        <th id=\"T_684c4_level0_row4\" class=\"row_heading level0 row4\" >25-29</th>\n",
       "                        <td id=\"T_684c4_row4_col0\" class=\"data row4 col0\" >77</td>\n",
       "                        <td id=\"T_684c4_row4_col1\" class=\"data row4 col1\" >13.37%</td>\n",
       "            </tr>\n",
       "            <tr>\n",
       "                        <th id=\"T_684c4_level0_row5\" class=\"row_heading level0 row5\" >30-34</th>\n",
       "                        <td id=\"T_684c4_row5_col0\" class=\"data row5 col0\" >52</td>\n",
       "                        <td id=\"T_684c4_row5_col1\" class=\"data row5 col1\" >9.03%</td>\n",
       "            </tr>\n",
       "            <tr>\n",
       "                        <th id=\"T_684c4_level0_row6\" class=\"row_heading level0 row6\" >35-39</th>\n",
       "                        <td id=\"T_684c4_row6_col0\" class=\"data row6 col0\" >31</td>\n",
       "                        <td id=\"T_684c4_row6_col1\" class=\"data row6 col1\" >5.38%</td>\n",
       "            </tr>\n",
       "            <tr>\n",
       "                        <th id=\"T_684c4_level0_row7\" class=\"row_heading level0 row7\" >40+</th>\n",
       "                        <td id=\"T_684c4_row7_col0\" class=\"data row7 col0\" >12</td>\n",
       "                        <td id=\"T_684c4_row7_col1\" class=\"data row7 col1\" >2.08%</td>\n",
       "            </tr>\n",
       "    </tbody></table>"
      ],
      "text/plain": [
       "<pandas.io.formats.style.Styler at 0x2247cd5d7f0>"
      ]
     },
     "execution_count": 40,
     "metadata": {},
     "output_type": "execute_result"
    }
   ],
   "source": [
    "ageBins = [0, 9.99, 14.99, 19.99, 24.99, 29.99, 34.99, 39.99, 999999]\n",
    "nameBins = [\"<10\", \"10-14\", \"15-19\", \"20-24\", \"25-29\", \"30-34\", \"35-39\", \"40+\"]\n",
    "\n",
    " \n",
    "purchase_data[\"Age Group\"] = pd.cut(purchase_data[\"Age\"], ageBins, labels=nameBins)\n",
    "purchase_data\n",
    "\n",
    "# Add age group \n",
    "ageGroup = purchase_data.groupby(\"Age Group\")\n",
    "\n",
    "totalCountAge = ageGroup[\"SN\"].nunique()\n",
    "\n",
    "# Calculate percentage by age \n",
    "percentAge = (totalCountAge / totalPlayers) * 100\n",
    "\n",
    "# Create data frame with new values \n",
    "ageDemographics_df = pd.DataFrame({\"Total Count\": totalCountAge,\n",
    "                                   \"Percentage of Players\": percentAge\n",
    "                               })\n",
    "\n",
    "# Remove that first index\n",
    "ageDemographics_df.index.name = None \n",
    "\n",
    "# Format with 2 decimals\n",
    "ageDemographics_df.style.format({\"Percentage of Players\":\"{:,.2f}%\"})"
   ]
  },
  {
   "cell_type": "markdown",
   "metadata": {},
   "source": [
    "## Purchasing Analysis (Age)"
   ]
  },
  {
   "cell_type": "markdown",
   "metadata": {},
   "source": [
    "* Bin the purchase_data data frame by age\n",
    "\n",
    "\n",
    "* Run basic calculations to obtain purchase count, avg. purchase price, avg. purchase total per person etc. in the table below\n",
    "\n",
    "\n",
    "* Create a summary data frame to hold the results\n",
    "\n",
    "\n",
    "* Optional: give the displayed data cleaner formatting\n",
    "\n",
    "\n",
    "* Display the summary data frame"
   ]
  },
  {
   "cell_type": "code",
   "execution_count": 54,
   "metadata": {},
   "outputs": [
    {
     "data": {
      "text/html": [
       "<style  type=\"text/css\" >\n",
       "</style><table id=\"T_8def5_\" ><thead>    <tr>        <th class=\"blank level0\" ></th>        <th class=\"col_heading level0 col0\" >Purchase Count</th>        <th class=\"col_heading level0 col1\" >Average Purchase Price</th>        <th class=\"col_heading level0 col2\" >Total Purchase Value</th>        <th class=\"col_heading level0 col3\" >Average Purchase Total per Person</th>    </tr></thead><tbody>\n",
       "                <tr>\n",
       "                        <th id=\"T_8def5_level0_row0\" class=\"row_heading level0 row0\" ><10</th>\n",
       "                        <td id=\"T_8def5_row0_col0\" class=\"data row0 col0\" >23</td>\n",
       "                        <td id=\"T_8def5_row0_col1\" class=\"data row0 col1\" >$3.35</td>\n",
       "                        <td id=\"T_8def5_row0_col2\" class=\"data row0 col2\" >$77.13</td>\n",
       "                        <td id=\"T_8def5_row0_col3\" class=\"data row0 col3\" >$4.54</td>\n",
       "            </tr>\n",
       "            <tr>\n",
       "                        <th id=\"T_8def5_level0_row1\" class=\"row_heading level0 row1\" >10-14</th>\n",
       "                        <td id=\"T_8def5_row1_col0\" class=\"data row1 col0\" >28</td>\n",
       "                        <td id=\"T_8def5_row1_col1\" class=\"data row1 col1\" >$2.96</td>\n",
       "                        <td id=\"T_8def5_row1_col2\" class=\"data row1 col2\" >$82.78</td>\n",
       "                        <td id=\"T_8def5_row1_col3\" class=\"data row1 col3\" >$3.76</td>\n",
       "            </tr>\n",
       "            <tr>\n",
       "                        <th id=\"T_8def5_level0_row2\" class=\"row_heading level0 row2\" >15-19</th>\n",
       "                        <td id=\"T_8def5_row2_col0\" class=\"data row2 col0\" >136</td>\n",
       "                        <td id=\"T_8def5_row2_col1\" class=\"data row2 col1\" >$3.04</td>\n",
       "                        <td id=\"T_8def5_row2_col2\" class=\"data row2 col2\" >$412.89</td>\n",
       "                        <td id=\"T_8def5_row2_col3\" class=\"data row2 col3\" >$3.86</td>\n",
       "            </tr>\n",
       "            <tr>\n",
       "                        <th id=\"T_8def5_level0_row3\" class=\"row_heading level0 row3\" >20-24</th>\n",
       "                        <td id=\"T_8def5_row3_col0\" class=\"data row3 col0\" >365</td>\n",
       "                        <td id=\"T_8def5_row3_col1\" class=\"data row3 col1\" >$3.05</td>\n",
       "                        <td id=\"T_8def5_row3_col2\" class=\"data row3 col2\" >$1,114.06</td>\n",
       "                        <td id=\"T_8def5_row3_col3\" class=\"data row3 col3\" >$4.32</td>\n",
       "            </tr>\n",
       "            <tr>\n",
       "                        <th id=\"T_8def5_level0_row4\" class=\"row_heading level0 row4\" >25-29</th>\n",
       "                        <td id=\"T_8def5_row4_col0\" class=\"data row4 col0\" >101</td>\n",
       "                        <td id=\"T_8def5_row4_col1\" class=\"data row4 col1\" >$2.90</td>\n",
       "                        <td id=\"T_8def5_row4_col2\" class=\"data row4 col2\" >$293.00</td>\n",
       "                        <td id=\"T_8def5_row4_col3\" class=\"data row4 col3\" >$3.81</td>\n",
       "            </tr>\n",
       "            <tr>\n",
       "                        <th id=\"T_8def5_level0_row5\" class=\"row_heading level0 row5\" >30-34</th>\n",
       "                        <td id=\"T_8def5_row5_col0\" class=\"data row5 col0\" >73</td>\n",
       "                        <td id=\"T_8def5_row5_col1\" class=\"data row5 col1\" >$2.93</td>\n",
       "                        <td id=\"T_8def5_row5_col2\" class=\"data row5 col2\" >$214.00</td>\n",
       "                        <td id=\"T_8def5_row5_col3\" class=\"data row5 col3\" >$4.12</td>\n",
       "            </tr>\n",
       "            <tr>\n",
       "                        <th id=\"T_8def5_level0_row6\" class=\"row_heading level0 row6\" >35-39</th>\n",
       "                        <td id=\"T_8def5_row6_col0\" class=\"data row6 col0\" >41</td>\n",
       "                        <td id=\"T_8def5_row6_col1\" class=\"data row6 col1\" >$3.60</td>\n",
       "                        <td id=\"T_8def5_row6_col2\" class=\"data row6 col2\" >$147.67</td>\n",
       "                        <td id=\"T_8def5_row6_col3\" class=\"data row6 col3\" >$4.76</td>\n",
       "            </tr>\n",
       "            <tr>\n",
       "                        <th id=\"T_8def5_level0_row7\" class=\"row_heading level0 row7\" >40+</th>\n",
       "                        <td id=\"T_8def5_row7_col0\" class=\"data row7 col0\" >13</td>\n",
       "                        <td id=\"T_8def5_row7_col1\" class=\"data row7 col1\" >$2.94</td>\n",
       "                        <td id=\"T_8def5_row7_col2\" class=\"data row7 col2\" >$38.24</td>\n",
       "                        <td id=\"T_8def5_row7_col3\" class=\"data row7 col3\" >$3.19</td>\n",
       "            </tr>\n",
       "    </tbody></table>"
      ],
      "text/plain": [
       "<pandas.io.formats.style.Styler at 0x2247cd7bc70>"
      ]
     },
     "execution_count": 54,
     "metadata": {},
     "output_type": "execute_result"
    }
   ],
   "source": [
    "# Count purchases by age group \n",
    "purchaseCountAge = ageGroup[\"Purchase ID\"].count()\n",
    "\n",
    "# Get Average Purchase Price for each age group\n",
    "avgPurchasePriceAge = ageGroup[\"Price\"].mean()\n",
    "\n",
    "# Get Total Purchase Value by Age Group \n",
    "totalPurchaseValueAge = ageGroup[\"Price\"].sum()\n",
    "\n",
    "# Get the average purchase per person in the age group \n",
    "avgPurchasePersonAge = totalPurchaseValueAge / totalCountAge\n",
    "\n",
    "# Create data frame (Again!!)\n",
    "ageDemographics_df = pd.DataFrame({\"Purchase Count\": purchaseCountAge,\n",
    "                                    \"Average Purchase Price\" : avgPurchasePriceAge,\n",
    "                                    \"Total Purchase Value\" : totalPurchaseValueAge,\n",
    "                                    \"Average Purchase Total per Person\" : avgPurchasePersonAge\n",
    "                                  })\n",
    "\n",
    "# Remove the header \n",
    "ageDemographics_df.index.name = None\n",
    "\n",
    "# Format two decimals with currency \n",
    "ageDemographics_df.style.format({\"Average Purchase Price\": \"${:,.2f}\",\n",
    "                                  \"Total Purchase Value\": \"${:,.2f}\",\n",
    "                                  \"Average Purchase Total per Person\": \"${:,.2f}\"\n",
    "                                 })\n",
    "\n"
   ]
  },
  {
   "cell_type": "markdown",
   "metadata": {},
   "source": [
    "## Top Spenders"
   ]
  },
  {
   "cell_type": "markdown",
   "metadata": {},
   "source": [
    "* Run basic calculations to obtain the results in the table below\n",
    "\n",
    "\n",
    "* Create a summary data frame to hold the results\n",
    "\n",
    "\n",
    "* Sort the total purchase value column in descending order\n",
    "\n",
    "\n",
    "* Optional: give the displayed data cleaner formatting\n",
    "\n",
    "\n",
    "* Display a preview of the summary data frame\n",
    "\n"
   ]
  },
  {
   "cell_type": "code",
   "execution_count": 57,
   "metadata": {},
   "outputs": [
    {
     "data": {
      "text/html": [
       "<style  type=\"text/css\" >\n",
       "</style><table id=\"T_6f849_\" ><thead>    <tr>        <th class=\"blank level0\" ></th>        <th class=\"col_heading level0 col0\" >Purchase Count</th>        <th class=\"col_heading level0 col1\" >Average Purchase Price</th>        <th class=\"col_heading level0 col2\" >Total Purchase Value</th>    </tr>    <tr>        <th class=\"index_name level0\" >SN</th>        <th class=\"blank\" ></th>        <th class=\"blank\" ></th>        <th class=\"blank\" ></th>    </tr></thead><tbody>\n",
       "                <tr>\n",
       "                        <th id=\"T_6f849_level0_row0\" class=\"row_heading level0 row0\" >Lisosia93</th>\n",
       "                        <td id=\"T_6f849_row0_col0\" class=\"data row0 col0\" >5</td>\n",
       "                        <td id=\"T_6f849_row0_col1\" class=\"data row0 col1\" >$3.79</td>\n",
       "                        <td id=\"T_6f849_row0_col2\" class=\"data row0 col2\" >$18.96</td>\n",
       "            </tr>\n",
       "            <tr>\n",
       "                        <th id=\"T_6f849_level0_row1\" class=\"row_heading level0 row1\" >Idastidru52</th>\n",
       "                        <td id=\"T_6f849_row1_col0\" class=\"data row1 col0\" >4</td>\n",
       "                        <td id=\"T_6f849_row1_col1\" class=\"data row1 col1\" >$3.86</td>\n",
       "                        <td id=\"T_6f849_row1_col2\" class=\"data row1 col2\" >$15.45</td>\n",
       "            </tr>\n",
       "            <tr>\n",
       "                        <th id=\"T_6f849_level0_row2\" class=\"row_heading level0 row2\" >Chamjask73</th>\n",
       "                        <td id=\"T_6f849_row2_col0\" class=\"data row2 col0\" >3</td>\n",
       "                        <td id=\"T_6f849_row2_col1\" class=\"data row2 col1\" >$4.61</td>\n",
       "                        <td id=\"T_6f849_row2_col2\" class=\"data row2 col2\" >$13.83</td>\n",
       "            </tr>\n",
       "            <tr>\n",
       "                        <th id=\"T_6f849_level0_row3\" class=\"row_heading level0 row3\" >Iral74</th>\n",
       "                        <td id=\"T_6f849_row3_col0\" class=\"data row3 col0\" >4</td>\n",
       "                        <td id=\"T_6f849_row3_col1\" class=\"data row3 col1\" >$3.40</td>\n",
       "                        <td id=\"T_6f849_row3_col2\" class=\"data row3 col2\" >$13.62</td>\n",
       "            </tr>\n",
       "            <tr>\n",
       "                        <th id=\"T_6f849_level0_row4\" class=\"row_heading level0 row4\" >Iskadarya95</th>\n",
       "                        <td id=\"T_6f849_row4_col0\" class=\"data row4 col0\" >3</td>\n",
       "                        <td id=\"T_6f849_row4_col1\" class=\"data row4 col1\" >$4.37</td>\n",
       "                        <td id=\"T_6f849_row4_col2\" class=\"data row4 col2\" >$13.10</td>\n",
       "            </tr>\n",
       "    </tbody></table>"
      ],
      "text/plain": [
       "<pandas.io.formats.style.Styler at 0x2247cd75eb0>"
      ]
     },
     "execution_count": 57,
     "metadata": {},
     "output_type": "execute_result"
    }
   ],
   "source": [
    "# Group the purchase data by screen names \n",
    "spenders = purchase_data.groupby(\"SN\")\n",
    "\n",
    "# Count the toal purchases by name\n",
    "purchaseCountSpender = spenders[\"Purchase ID\"].count()\n",
    "\n",
    "# Calculate the average purchases by name \n",
    "avgPurchasePriceSpender = spenders[\"Price\"].mean()\n",
    "\n",
    "# Calculate the purchase total \n",
    "purchaseTotalSpender = spenders[\"Price\"].sum()\n",
    "\n",
    "# Create the data Frame \n",
    "topSpenders = pd.DataFrame ({\"Purchase Count\" : purchaseCountSpender,\n",
    "                             \"Average Purchase Price\" : avgPurchasePriceSpender,\n",
    "                             \"Total Purchase Value\": purchaseTotalSpender\n",
    "                            })\n",
    "\n",
    "# Sort in Descending order \n",
    "formatSpenders = topSpenders.sort_values([\"Total Purchase Value\"], ascending=False).head()\n",
    "formatSpenders\n",
    "\n",
    "# Formate 2 decimals w/ currency (like before)\n",
    "formatSpenders.style.format({\"Average Purchase Total\":\"${:,.2f}\",\n",
    "                             \"Average Purchase Price\":\"${:,.2f}\", \n",
    "                             \"Total Purchase Value\":\"${:,.2f}\"\n",
    "                            })"
   ]
  },
  {
   "cell_type": "markdown",
   "metadata": {},
   "source": [
    "## Most Popular Items"
   ]
  },
  {
   "cell_type": "markdown",
   "metadata": {},
   "source": [
    "* Retrieve the Item ID, Item Name, and Item Price columns\n",
    "\n",
    "\n",
    "* Group by Item ID and Item Name. Perform calculations to obtain purchase count, average item price, and total purchase value\n",
    "\n",
    "\n",
    "* Create a summary data frame to hold the results\n",
    "\n",
    "\n",
    "* Sort the purchase count column in descending order\n",
    "\n",
    "\n",
    "* Optional: give the displayed data cleaner formatting\n",
    "\n",
    "\n",
    "* Display a preview of the summary data frame\n",
    "\n"
   ]
  },
  {
   "cell_type": "code",
   "execution_count": 59,
   "metadata": {},
   "outputs": [
    {
     "data": {
      "text/html": [
       "<style  type=\"text/css\" >\n",
       "</style><table id=\"T_afd3a_\" ><thead>    <tr>        <th class=\"blank\" ></th>        <th class=\"blank level0\" ></th>        <th class=\"col_heading level0 col0\" >Purchase Count</th>        <th class=\"col_heading level0 col1\" >Item Price</th>        <th class=\"col_heading level0 col2\" >Total Purchase Value</th>    </tr>    <tr>        <th class=\"index_name level0\" >Item ID</th>        <th class=\"index_name level1\" >Item Name</th>        <th class=\"blank\" ></th>        <th class=\"blank\" ></th>        <th class=\"blank\" ></th>    </tr></thead><tbody>\n",
       "                <tr>\n",
       "                        <th id=\"T_afd3a_level0_row0\" class=\"row_heading level0 row0\" >92</th>\n",
       "                        <th id=\"T_afd3a_level1_row0\" class=\"row_heading level1 row0\" >Final Critic</th>\n",
       "                        <td id=\"T_afd3a_row0_col0\" class=\"data row0 col0\" >13</td>\n",
       "                        <td id=\"T_afd3a_row0_col1\" class=\"data row0 col1\" >$4.61</td>\n",
       "                        <td id=\"T_afd3a_row0_col2\" class=\"data row0 col2\" >$59.99</td>\n",
       "            </tr>\n",
       "            <tr>\n",
       "                        <th id=\"T_afd3a_level0_row1\" class=\"row_heading level0 row1\" >178</th>\n",
       "                        <th id=\"T_afd3a_level1_row1\" class=\"row_heading level1 row1\" >Oathbreaker, Last Hope of the Breaking Storm</th>\n",
       "                        <td id=\"T_afd3a_row1_col0\" class=\"data row1 col0\" >12</td>\n",
       "                        <td id=\"T_afd3a_row1_col1\" class=\"data row1 col1\" >$4.23</td>\n",
       "                        <td id=\"T_afd3a_row1_col2\" class=\"data row1 col2\" >$50.76</td>\n",
       "            </tr>\n",
       "            <tr>\n",
       "                        <th id=\"T_afd3a_level0_row2\" class=\"row_heading level0 row2\" >145</th>\n",
       "                        <th id=\"T_afd3a_level1_row2\" class=\"row_heading level1 row2\" >Fiery Glass Crusader</th>\n",
       "                        <td id=\"T_afd3a_row2_col0\" class=\"data row2 col0\" >9</td>\n",
       "                        <td id=\"T_afd3a_row2_col1\" class=\"data row2 col1\" >$4.58</td>\n",
       "                        <td id=\"T_afd3a_row2_col2\" class=\"data row2 col2\" >$41.22</td>\n",
       "            </tr>\n",
       "            <tr>\n",
       "                        <th id=\"T_afd3a_level0_row3\" class=\"row_heading level0 row3\" >132</th>\n",
       "                        <th id=\"T_afd3a_level1_row3\" class=\"row_heading level1 row3\" >Persuasion</th>\n",
       "                        <td id=\"T_afd3a_row3_col0\" class=\"data row3 col0\" >9</td>\n",
       "                        <td id=\"T_afd3a_row3_col1\" class=\"data row3 col1\" >$3.22</td>\n",
       "                        <td id=\"T_afd3a_row3_col2\" class=\"data row3 col2\" >$28.99</td>\n",
       "            </tr>\n",
       "            <tr>\n",
       "                        <th id=\"T_afd3a_level0_row4\" class=\"row_heading level0 row4\" >108</th>\n",
       "                        <th id=\"T_afd3a_level1_row4\" class=\"row_heading level1 row4\" >Extraction, Quickblade Of Trembling Hands</th>\n",
       "                        <td id=\"T_afd3a_row4_col0\" class=\"data row4 col0\" >9</td>\n",
       "                        <td id=\"T_afd3a_row4_col1\" class=\"data row4 col1\" >$3.53</td>\n",
       "                        <td id=\"T_afd3a_row4_col2\" class=\"data row4 col2\" >$31.77</td>\n",
       "            </tr>\n",
       "    </tbody></table>"
      ],
      "text/plain": [
       "<pandas.io.formats.style.Styler at 0x224798cf220>"
      ]
     },
     "execution_count": 59,
     "metadata": {},
     "output_type": "execute_result"
    }
   ],
   "source": [
    "# Create new data frame with the items \n",
    "newItems = purchase_data[[\"Item ID\", \"Item Name\", \"Price\"]]\n",
    "\n",
    "# Group the item data \n",
    "newItemInfo = newItems.groupby([\"Item ID\",\"Item Name\"])\n",
    "\n",
    "# Count the number of times an item has been purchased \n",
    "countItemPurchased = newItemInfo[\"Price\"].count()\n",
    "\n",
    "# Calcualte the purchase value per item \n",
    "purchaseValue = (newItemInfo[\"Price\"].sum()) \n",
    "\n",
    "# Find the item price\n",
    "itemPrice = purchaseValue / countItemPurchased\n",
    "\n",
    "# Create data frame with values provided above\n",
    "most_popular_items = pd.DataFrame({\"Purchase Count\": countItemPurchased, \n",
    "                                   \"Item Price\": itemPrice,\n",
    "                                   \"Total Purchase Value\":purchaseValue})\n",
    "\n",
    "# Sort in descending order\n",
    "popularFormat = most_popular_items.sort_values([\"Purchase Count\"], ascending=False).head()\n",
    "\n",
    "# Format with currency style\n",
    "popularFormat.style.format({\"Item Price\":\"${:,.2f}\",\n",
    "                            \"Total Purchase Value\":\"${:,.2f}\"\n",
    "                           })"
   ]
  },
  {
   "cell_type": "markdown",
   "metadata": {},
   "source": [
    "## Most Profitable Items"
   ]
  },
  {
   "cell_type": "markdown",
   "metadata": {},
   "source": [
    "* Sort the above table by total purchase value in descending order\n",
    "\n",
    "\n",
    "* Optional: give the displayed data cleaner formatting\n",
    "\n",
    "\n",
    "* Display a preview of the data frame\n",
    "\n"
   ]
  },
  {
   "cell_type": "code",
   "execution_count": 63,
   "metadata": {
    "scrolled": true
   },
   "outputs": [
    {
     "data": {
      "text/html": [
       "<style  type=\"text/css\" >\n",
       "</style><table id=\"T_83dab_\" ><thead>    <tr>        <th class=\"blank\" ></th>        <th class=\"blank level0\" ></th>        <th class=\"col_heading level0 col0\" >Purchase Count</th>        <th class=\"col_heading level0 col1\" >Item Price</th>        <th class=\"col_heading level0 col2\" >Total Purchase Value</th>    </tr>    <tr>        <th class=\"index_name level0\" >Item ID</th>        <th class=\"index_name level1\" >Item Name</th>        <th class=\"blank\" ></th>        <th class=\"blank\" ></th>        <th class=\"blank\" ></th>    </tr></thead><tbody>\n",
       "                <tr>\n",
       "                        <th id=\"T_83dab_level0_row0\" class=\"row_heading level0 row0\" >92</th>\n",
       "                        <th id=\"T_83dab_level1_row0\" class=\"row_heading level1 row0\" >Final Critic</th>\n",
       "                        <td id=\"T_83dab_row0_col0\" class=\"data row0 col0\" >13</td>\n",
       "                        <td id=\"T_83dab_row0_col1\" class=\"data row0 col1\" >$4.61</td>\n",
       "                        <td id=\"T_83dab_row0_col2\" class=\"data row0 col2\" >$59.99</td>\n",
       "            </tr>\n",
       "            <tr>\n",
       "                        <th id=\"T_83dab_level0_row1\" class=\"row_heading level0 row1\" >178</th>\n",
       "                        <th id=\"T_83dab_level1_row1\" class=\"row_heading level1 row1\" >Oathbreaker, Last Hope of the Breaking Storm</th>\n",
       "                        <td id=\"T_83dab_row1_col0\" class=\"data row1 col0\" >12</td>\n",
       "                        <td id=\"T_83dab_row1_col1\" class=\"data row1 col1\" >$4.23</td>\n",
       "                        <td id=\"T_83dab_row1_col2\" class=\"data row1 col2\" >$50.76</td>\n",
       "            </tr>\n",
       "            <tr>\n",
       "                        <th id=\"T_83dab_level0_row2\" class=\"row_heading level0 row2\" >82</th>\n",
       "                        <th id=\"T_83dab_level1_row2\" class=\"row_heading level1 row2\" >Nirvana</th>\n",
       "                        <td id=\"T_83dab_row2_col0\" class=\"data row2 col0\" >9</td>\n",
       "                        <td id=\"T_83dab_row2_col1\" class=\"data row2 col1\" >$4.90</td>\n",
       "                        <td id=\"T_83dab_row2_col2\" class=\"data row2 col2\" >$44.10</td>\n",
       "            </tr>\n",
       "            <tr>\n",
       "                        <th id=\"T_83dab_level0_row3\" class=\"row_heading level0 row3\" >145</th>\n",
       "                        <th id=\"T_83dab_level1_row3\" class=\"row_heading level1 row3\" >Fiery Glass Crusader</th>\n",
       "                        <td id=\"T_83dab_row3_col0\" class=\"data row3 col0\" >9</td>\n",
       "                        <td id=\"T_83dab_row3_col1\" class=\"data row3 col1\" >$4.58</td>\n",
       "                        <td id=\"T_83dab_row3_col2\" class=\"data row3 col2\" >$41.22</td>\n",
       "            </tr>\n",
       "            <tr>\n",
       "                        <th id=\"T_83dab_level0_row4\" class=\"row_heading level0 row4\" >103</th>\n",
       "                        <th id=\"T_83dab_level1_row4\" class=\"row_heading level1 row4\" >Singed Scalpel</th>\n",
       "                        <td id=\"T_83dab_row4_col0\" class=\"data row4 col0\" >8</td>\n",
       "                        <td id=\"T_83dab_row4_col1\" class=\"data row4 col1\" >$4.35</td>\n",
       "                        <td id=\"T_83dab_row4_col2\" class=\"data row4 col2\" >$34.80</td>\n",
       "            </tr>\n",
       "    </tbody></table>"
      ],
      "text/plain": [
       "<pandas.io.formats.style.Styler at 0x2247cd7bd60>"
      ]
     },
     "execution_count": 63,
     "metadata": {},
     "output_type": "execute_result"
    }
   ],
   "source": [
    "# Sort the above table by total purchase value in descending order\n",
    "popularFormat = most_popular_items.sort_values([\"Total Purchase Value\"], ascending=False).head()\n",
    "\n",
    "# Format with currency style\n",
    "popularFormat.style.format({\"Item Price\":\"${:,.2f}\",\n",
    "                            \"Total Purchase Value\":\"${:,.2f}\"\n",
    "                           })"
   ]
  },
  {
   "cell_type": "code",
   "execution_count": null,
   "metadata": {},
   "outputs": [],
   "source": []
  }
 ],
 "metadata": {
  "anaconda-cloud": {},
  "kernel_info": {
   "name": "python3"
  },
  "kernelspec": {
   "display_name": "Python 3",
   "language": "python",
   "name": "python3"
  },
  "language_info": {
   "codemirror_mode": {
    "name": "ipython",
    "version": 3
   },
   "file_extension": ".py",
   "mimetype": "text/x-python",
   "name": "python",
   "nbconvert_exporter": "python",
   "pygments_lexer": "ipython3",
   "version": "3.8.8"
  },
  "latex_envs": {
   "LaTeX_envs_menu_present": true,
   "autoclose": false,
   "autocomplete": true,
   "bibliofile": "biblio.bib",
   "cite_by": "apalike",
   "current_citInitial": 1,
   "eqLabelWithNumbers": true,
   "eqNumInitial": 1,
   "hotkeys": {
    "equation": "Ctrl-E",
    "itemize": "Ctrl-I"
   },
   "labels_anchors": false,
   "latex_user_defs": false,
   "report_style_numbering": false,
   "user_envs_cfg": false
  },
  "nteract": {
   "version": "0.2.0"
  }
 },
 "nbformat": 4,
 "nbformat_minor": 2
}
